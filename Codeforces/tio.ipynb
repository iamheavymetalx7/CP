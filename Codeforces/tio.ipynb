{
 "cells": [
  {
   "cell_type": "code",
   "execution_count": 31,
   "metadata": {},
   "outputs": [],
   "source": [
    "a=[-5,20,-19,13,-3,-3,2,-4]\n",
    "b=[37,33,38,6,6,38,42,34]"
   ]
  },
  {
   "cell_type": "code",
   "execution_count": 32,
   "metadata": {},
   "outputs": [],
   "source": [
    "# a=[1,2,1]\n",
    "# b=[10,1,2]"
   ]
  },
  {
   "cell_type": "code",
   "execution_count": 33,
   "metadata": {},
   "outputs": [],
   "source": [
    "# a=[1]\n",
    "# b=[100]"
   ]
  },
  {
   "cell_type": "code",
   "execution_count": 40,
   "metadata": {},
   "outputs": [],
   "source": [
    "from bisect import bisect_left\n",
    "def func(A,B):\n",
    "    n=len(A)\n",
    "    m=len(B)\n",
    "    print(n,m)\n",
    "\n",
    "    prefix=[0]*(n)\n",
    "\n",
    "    prefix[0]=A[0]\n",
    "    for i in range(1,n):\n",
    "        prefix[i]=prefix[i-1]+A[i]\n",
    "    print(prefix)\n",
    "    ans=[]\n",
    "    for ele in B:\n",
    "        val=0\n",
    "        if ele>prefix[-1]:\n",
    "            val=(ele//prefix[-1])\n",
    "        ele-=prefix[-1]*val\n",
    "        to_add=n*val\n",
    "        if ele!=0:\n",
    "            to_add+=bisect_left(prefix,ele)+1\n",
    "\n",
    "        ans.append(to_add)\n",
    "    print(ans)\n",
    "\n"
   ]
  },
  {
   "cell_type": "code",
   "execution_count": 42,
   "metadata": {},
   "outputs": [],
   "source": [
    "ans = (37-15)/1"
   ]
  },
  {
   "cell_type": "code",
   "execution_count": 43,
   "metadata": {},
   "outputs": [
    {
     "name": "stdout",
     "output_type": "stream",
     "text": [
      "22.0\n"
     ]
    }
   ],
   "source": [
    "print(ans)"
   ]
  },
  {
   "cell_type": "code",
   "execution_count": 41,
   "metadata": {},
   "outputs": [
    {
     "name": "stdout",
     "output_type": "stream",
     "text": [
      "8 8\n",
      "[-5, 15, -4, 9, 6, 3, 5, 1]\n",
      "[296, 264, 304, 48, 48, 304, 336, 272]\n"
     ]
    }
   ],
   "source": [
    "func(a,b)"
   ]
  },
  {
   "cell_type": "code",
   "execution_count": 38,
   "metadata": {},
   "outputs": [
    {
     "name": "stdout",
     "output_type": "stream",
     "text": [
      "1\n"
     ]
    }
   ],
   "source": [
    "print(305%8)"
   ]
  },
  {
   "cell_type": "code",
   "execution_count": 39,
   "metadata": {},
   "outputs": [
    {
     "name": "stdout",
     "output_type": "stream",
     "text": [
      "20.333333333333332\n"
     ]
    }
   ],
   "source": [
    "print(305/15)"
   ]
  },
  {
   "cell_type": "code",
   "execution_count": null,
   "metadata": {},
   "outputs": [],
   "source": []
  }
 ],
 "metadata": {
  "kernelspec": {
   "display_name": "base",
   "language": "python",
   "name": "python3"
  },
  "language_info": {
   "codemirror_mode": {
    "name": "ipython",
    "version": 3
   },
   "file_extension": ".py",
   "mimetype": "text/x-python",
   "name": "python",
   "nbconvert_exporter": "python",
   "pygments_lexer": "ipython3",
   "version": "3.9.7"
  },
  "orig_nbformat": 4
 },
 "nbformat": 4,
 "nbformat_minor": 2
}
